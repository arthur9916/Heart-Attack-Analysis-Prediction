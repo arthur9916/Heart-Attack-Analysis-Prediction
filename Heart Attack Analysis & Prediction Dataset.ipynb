{
 "cells": [
  {
   "cell_type": "code",
   "execution_count": 1,
   "metadata": {},
   "outputs": [],
   "source": [
    "# Importing Libraries\n",
    "import seaborn as sns\n",
    "import numpy as np \n",
    "import pandas as pd \n",
    "import matplotlib.pyplot as plt\n",
    "import plotly.express as px\n",
    "import plotly.graph_objects as go\n",
    "from plotly.subplots import make_subplots\n",
    "from sklearn.model_selection import train_test_split\n",
    "from sklearn.preprocessing import StandardScaler \n",
    "from sklearn.svm import SVC\n",
    "from sklearn.linear_model import LogisticRegression\n",
    "import xgboost as xgb\n",
    "from sklearn.metrics import accuracy_score\n",
    "from sklearn.neighbors import KNeighborsClassifier  \n",
    "from sklearn.ensemble import RandomForestRegressor\n",
    "from sklearn.neighbors import KNeighborsClassifier\n",
    "from sklearn.naive_bayes import BernoulliNB\n",
    "from sklearn.naive_bayes import GaussianNB\n",
    "from sklearn.metrics import confusion_matrix"
   ]
  },
  {
   "cell_type": "code",
   "execution_count": 2,
   "metadata": {},
   "outputs": [],
   "source": [
    "# Importing CSV files from system\n",
    "df1 = pd.read_csv('C:/Users/Micheal Chukwuebuka/Downloads/archive (2)/heart.csv')\n",
    "df2 = pd.read_csv('C:/Users/Micheal Chukwuebuka/Downloads/archive (2)/o2Saturation.csv')"
   ]
  },
  {
   "cell_type": "markdown",
   "metadata": {},
   "source": [
    "# Data Visualization and Exploratory Data Analysis"
   ]
  },
  {
   "cell_type": "code",
   "execution_count": 3,
   "metadata": {},
   "outputs": [
    {
     "data": {
      "text/html": [
       "<div>\n",
       "<style scoped>\n",
       "    .dataframe tbody tr th:only-of-type {\n",
       "        vertical-align: middle;\n",
       "    }\n",
       "\n",
       "    .dataframe tbody tr th {\n",
       "        vertical-align: top;\n",
       "    }\n",
       "\n",
       "    .dataframe thead th {\n",
       "        text-align: right;\n",
       "    }\n",
       "</style>\n",
       "<table border=\"1\" class=\"dataframe\">\n",
       "  <thead>\n",
       "    <tr style=\"text-align: right;\">\n",
       "      <th></th>\n",
       "      <th>age</th>\n",
       "      <th>sex</th>\n",
       "      <th>cp</th>\n",
       "      <th>trtbps</th>\n",
       "      <th>chol</th>\n",
       "      <th>fbs</th>\n",
       "      <th>restecg</th>\n",
       "      <th>thalachh</th>\n",
       "      <th>exng</th>\n",
       "      <th>oldpeak</th>\n",
       "      <th>slp</th>\n",
       "      <th>caa</th>\n",
       "      <th>thall</th>\n",
       "      <th>output</th>\n",
       "    </tr>\n",
       "  </thead>\n",
       "  <tbody>\n",
       "    <tr>\n",
       "      <th>0</th>\n",
       "      <td>63</td>\n",
       "      <td>1</td>\n",
       "      <td>3</td>\n",
       "      <td>145</td>\n",
       "      <td>233</td>\n",
       "      <td>1</td>\n",
       "      <td>0</td>\n",
       "      <td>150</td>\n",
       "      <td>0</td>\n",
       "      <td>2.3</td>\n",
       "      <td>0</td>\n",
       "      <td>0</td>\n",
       "      <td>1</td>\n",
       "      <td>1</td>\n",
       "    </tr>\n",
       "    <tr>\n",
       "      <th>1</th>\n",
       "      <td>37</td>\n",
       "      <td>1</td>\n",
       "      <td>2</td>\n",
       "      <td>130</td>\n",
       "      <td>250</td>\n",
       "      <td>0</td>\n",
       "      <td>1</td>\n",
       "      <td>187</td>\n",
       "      <td>0</td>\n",
       "      <td>3.5</td>\n",
       "      <td>0</td>\n",
       "      <td>0</td>\n",
       "      <td>2</td>\n",
       "      <td>1</td>\n",
       "    </tr>\n",
       "    <tr>\n",
       "      <th>2</th>\n",
       "      <td>41</td>\n",
       "      <td>0</td>\n",
       "      <td>1</td>\n",
       "      <td>130</td>\n",
       "      <td>204</td>\n",
       "      <td>0</td>\n",
       "      <td>0</td>\n",
       "      <td>172</td>\n",
       "      <td>0</td>\n",
       "      <td>1.4</td>\n",
       "      <td>2</td>\n",
       "      <td>0</td>\n",
       "      <td>2</td>\n",
       "      <td>1</td>\n",
       "    </tr>\n",
       "    <tr>\n",
       "      <th>3</th>\n",
       "      <td>56</td>\n",
       "      <td>1</td>\n",
       "      <td>1</td>\n",
       "      <td>120</td>\n",
       "      <td>236</td>\n",
       "      <td>0</td>\n",
       "      <td>1</td>\n",
       "      <td>178</td>\n",
       "      <td>0</td>\n",
       "      <td>0.8</td>\n",
       "      <td>2</td>\n",
       "      <td>0</td>\n",
       "      <td>2</td>\n",
       "      <td>1</td>\n",
       "    </tr>\n",
       "    <tr>\n",
       "      <th>4</th>\n",
       "      <td>57</td>\n",
       "      <td>0</td>\n",
       "      <td>0</td>\n",
       "      <td>120</td>\n",
       "      <td>354</td>\n",
       "      <td>0</td>\n",
       "      <td>1</td>\n",
       "      <td>163</td>\n",
       "      <td>1</td>\n",
       "      <td>0.6</td>\n",
       "      <td>2</td>\n",
       "      <td>0</td>\n",
       "      <td>2</td>\n",
       "      <td>1</td>\n",
       "    </tr>\n",
       "  </tbody>\n",
       "</table>\n",
       "</div>"
      ],
      "text/plain": [
       "   age  sex  cp  trtbps  chol  fbs  restecg  thalachh  exng  oldpeak  slp  \\\n",
       "0   63    1   3     145   233    1        0       150     0      2.3    0   \n",
       "1   37    1   2     130   250    0        1       187     0      3.5    0   \n",
       "2   41    0   1     130   204    0        0       172     0      1.4    2   \n",
       "3   56    1   1     120   236    0        1       178     0      0.8    2   \n",
       "4   57    0   0     120   354    0        1       163     1      0.6    2   \n",
       "\n",
       "   caa  thall  output  \n",
       "0    0      1       1  \n",
       "1    0      2       1  \n",
       "2    0      2       1  \n",
       "3    0      2       1  \n",
       "4    0      2       1  "
      ]
     },
     "execution_count": 3,
     "metadata": {},
     "output_type": "execute_result"
    }
   ],
   "source": [
    "df1.head(5)"
   ]
  },
  {
   "cell_type": "code",
   "execution_count": 4,
   "metadata": {},
   "outputs": [
    {
     "data": {
      "text/html": [
       "<div>\n",
       "<style scoped>\n",
       "    .dataframe tbody tr th:only-of-type {\n",
       "        vertical-align: middle;\n",
       "    }\n",
       "\n",
       "    .dataframe tbody tr th {\n",
       "        vertical-align: top;\n",
       "    }\n",
       "\n",
       "    .dataframe thead th {\n",
       "        text-align: right;\n",
       "    }\n",
       "</style>\n",
       "<table border=\"1\" class=\"dataframe\">\n",
       "  <thead>\n",
       "    <tr style=\"text-align: right;\">\n",
       "      <th></th>\n",
       "      <th>98.6</th>\n",
       "    </tr>\n",
       "  </thead>\n",
       "  <tbody>\n",
       "    <tr>\n",
       "      <th>0</th>\n",
       "      <td>98.6</td>\n",
       "    </tr>\n",
       "    <tr>\n",
       "      <th>1</th>\n",
       "      <td>98.6</td>\n",
       "    </tr>\n",
       "    <tr>\n",
       "      <th>2</th>\n",
       "      <td>98.6</td>\n",
       "    </tr>\n",
       "    <tr>\n",
       "      <th>3</th>\n",
       "      <td>98.1</td>\n",
       "    </tr>\n",
       "    <tr>\n",
       "      <th>4</th>\n",
       "      <td>97.5</td>\n",
       "    </tr>\n",
       "  </tbody>\n",
       "</table>\n",
       "</div>"
      ],
      "text/plain": [
       "   98.6\n",
       "0  98.6\n",
       "1  98.6\n",
       "2  98.6\n",
       "3  98.1\n",
       "4  97.5"
      ]
     },
     "execution_count": 4,
     "metadata": {},
     "output_type": "execute_result"
    }
   ],
   "source": [
    "df2.head(5)"
   ]
  },
  {
   "cell_type": "code",
   "execution_count": 5,
   "metadata": {},
   "outputs": [
    {
     "name": "stdout",
     "output_type": "stream",
     "text": [
      "<class 'pandas.core.frame.DataFrame'>\n",
      "RangeIndex: 303 entries, 0 to 302\n",
      "Data columns (total 14 columns):\n",
      " #   Column    Non-Null Count  Dtype  \n",
      "---  ------    --------------  -----  \n",
      " 0   age       303 non-null    int64  \n",
      " 1   sex       303 non-null    int64  \n",
      " 2   cp        303 non-null    int64  \n",
      " 3   trtbps    303 non-null    int64  \n",
      " 4   chol      303 non-null    int64  \n",
      " 5   fbs       303 non-null    int64  \n",
      " 6   restecg   303 non-null    int64  \n",
      " 7   thalachh  303 non-null    int64  \n",
      " 8   exng      303 non-null    int64  \n",
      " 9   oldpeak   303 non-null    float64\n",
      " 10  slp       303 non-null    int64  \n",
      " 11  caa       303 non-null    int64  \n",
      " 12  thall     303 non-null    int64  \n",
      " 13  output    303 non-null    int64  \n",
      "dtypes: float64(1), int64(13)\n",
      "memory usage: 33.3 KB\n"
     ]
    }
   ],
   "source": [
    "df1.info()"
   ]
  },
  {
   "cell_type": "code",
   "execution_count": 6,
   "metadata": {},
   "outputs": [
    {
     "name": "stdout",
     "output_type": "stream",
     "text": [
      "<class 'pandas.core.frame.DataFrame'>\n",
      "RangeIndex: 3585 entries, 0 to 3584\n",
      "Data columns (total 1 columns):\n",
      " #   Column  Non-Null Count  Dtype  \n",
      "---  ------  --------------  -----  \n",
      " 0   98.6    3585 non-null   float64\n",
      "dtypes: float64(1)\n",
      "memory usage: 28.1 KB\n"
     ]
    }
   ],
   "source": [
    "df2.info()"
   ]
  },
  {
   "cell_type": "code",
   "execution_count": 7,
   "metadata": {},
   "outputs": [
    {
     "data": {
      "text/html": [
       "<div>\n",
       "<style scoped>\n",
       "    .dataframe tbody tr th:only-of-type {\n",
       "        vertical-align: middle;\n",
       "    }\n",
       "\n",
       "    .dataframe tbody tr th {\n",
       "        vertical-align: top;\n",
       "    }\n",
       "\n",
       "    .dataframe thead th {\n",
       "        text-align: right;\n",
       "    }\n",
       "</style>\n",
       "<table border=\"1\" class=\"dataframe\">\n",
       "  <thead>\n",
       "    <tr style=\"text-align: right;\">\n",
       "      <th></th>\n",
       "      <th>age</th>\n",
       "      <th>sex</th>\n",
       "      <th>cp</th>\n",
       "      <th>trtbps</th>\n",
       "      <th>chol</th>\n",
       "      <th>fbs</th>\n",
       "      <th>restecg</th>\n",
       "      <th>thalachh</th>\n",
       "      <th>exng</th>\n",
       "      <th>oldpeak</th>\n",
       "      <th>slp</th>\n",
       "      <th>caa</th>\n",
       "      <th>thall</th>\n",
       "      <th>output</th>\n",
       "    </tr>\n",
       "  </thead>\n",
       "  <tbody>\n",
       "    <tr>\n",
       "      <th>count</th>\n",
       "      <td>303.000000</td>\n",
       "      <td>303.000000</td>\n",
       "      <td>303.000000</td>\n",
       "      <td>303.000000</td>\n",
       "      <td>303.000000</td>\n",
       "      <td>303.000000</td>\n",
       "      <td>303.000000</td>\n",
       "      <td>303.000000</td>\n",
       "      <td>303.000000</td>\n",
       "      <td>303.000000</td>\n",
       "      <td>303.000000</td>\n",
       "      <td>303.000000</td>\n",
       "      <td>303.000000</td>\n",
       "      <td>303.000000</td>\n",
       "    </tr>\n",
       "    <tr>\n",
       "      <th>mean</th>\n",
       "      <td>54.366337</td>\n",
       "      <td>0.683168</td>\n",
       "      <td>0.966997</td>\n",
       "      <td>131.623762</td>\n",
       "      <td>246.264026</td>\n",
       "      <td>0.148515</td>\n",
       "      <td>0.528053</td>\n",
       "      <td>149.646865</td>\n",
       "      <td>0.326733</td>\n",
       "      <td>1.039604</td>\n",
       "      <td>1.399340</td>\n",
       "      <td>0.729373</td>\n",
       "      <td>2.313531</td>\n",
       "      <td>0.544554</td>\n",
       "    </tr>\n",
       "    <tr>\n",
       "      <th>std</th>\n",
       "      <td>9.082101</td>\n",
       "      <td>0.466011</td>\n",
       "      <td>1.032052</td>\n",
       "      <td>17.538143</td>\n",
       "      <td>51.830751</td>\n",
       "      <td>0.356198</td>\n",
       "      <td>0.525860</td>\n",
       "      <td>22.905161</td>\n",
       "      <td>0.469794</td>\n",
       "      <td>1.161075</td>\n",
       "      <td>0.616226</td>\n",
       "      <td>1.022606</td>\n",
       "      <td>0.612277</td>\n",
       "      <td>0.498835</td>\n",
       "    </tr>\n",
       "    <tr>\n",
       "      <th>min</th>\n",
       "      <td>29.000000</td>\n",
       "      <td>0.000000</td>\n",
       "      <td>0.000000</td>\n",
       "      <td>94.000000</td>\n",
       "      <td>126.000000</td>\n",
       "      <td>0.000000</td>\n",
       "      <td>0.000000</td>\n",
       "      <td>71.000000</td>\n",
       "      <td>0.000000</td>\n",
       "      <td>0.000000</td>\n",
       "      <td>0.000000</td>\n",
       "      <td>0.000000</td>\n",
       "      <td>0.000000</td>\n",
       "      <td>0.000000</td>\n",
       "    </tr>\n",
       "    <tr>\n",
       "      <th>25%</th>\n",
       "      <td>47.500000</td>\n",
       "      <td>0.000000</td>\n",
       "      <td>0.000000</td>\n",
       "      <td>120.000000</td>\n",
       "      <td>211.000000</td>\n",
       "      <td>0.000000</td>\n",
       "      <td>0.000000</td>\n",
       "      <td>133.500000</td>\n",
       "      <td>0.000000</td>\n",
       "      <td>0.000000</td>\n",
       "      <td>1.000000</td>\n",
       "      <td>0.000000</td>\n",
       "      <td>2.000000</td>\n",
       "      <td>0.000000</td>\n",
       "    </tr>\n",
       "    <tr>\n",
       "      <th>50%</th>\n",
       "      <td>55.000000</td>\n",
       "      <td>1.000000</td>\n",
       "      <td>1.000000</td>\n",
       "      <td>130.000000</td>\n",
       "      <td>240.000000</td>\n",
       "      <td>0.000000</td>\n",
       "      <td>1.000000</td>\n",
       "      <td>153.000000</td>\n",
       "      <td>0.000000</td>\n",
       "      <td>0.800000</td>\n",
       "      <td>1.000000</td>\n",
       "      <td>0.000000</td>\n",
       "      <td>2.000000</td>\n",
       "      <td>1.000000</td>\n",
       "    </tr>\n",
       "    <tr>\n",
       "      <th>75%</th>\n",
       "      <td>61.000000</td>\n",
       "      <td>1.000000</td>\n",
       "      <td>2.000000</td>\n",
       "      <td>140.000000</td>\n",
       "      <td>274.500000</td>\n",
       "      <td>0.000000</td>\n",
       "      <td>1.000000</td>\n",
       "      <td>166.000000</td>\n",
       "      <td>1.000000</td>\n",
       "      <td>1.600000</td>\n",
       "      <td>2.000000</td>\n",
       "      <td>1.000000</td>\n",
       "      <td>3.000000</td>\n",
       "      <td>1.000000</td>\n",
       "    </tr>\n",
       "    <tr>\n",
       "      <th>max</th>\n",
       "      <td>77.000000</td>\n",
       "      <td>1.000000</td>\n",
       "      <td>3.000000</td>\n",
       "      <td>200.000000</td>\n",
       "      <td>564.000000</td>\n",
       "      <td>1.000000</td>\n",
       "      <td>2.000000</td>\n",
       "      <td>202.000000</td>\n",
       "      <td>1.000000</td>\n",
       "      <td>6.200000</td>\n",
       "      <td>2.000000</td>\n",
       "      <td>4.000000</td>\n",
       "      <td>3.000000</td>\n",
       "      <td>1.000000</td>\n",
       "    </tr>\n",
       "  </tbody>\n",
       "</table>\n",
       "</div>"
      ],
      "text/plain": [
       "              age         sex          cp      trtbps        chol         fbs  \\\n",
       "count  303.000000  303.000000  303.000000  303.000000  303.000000  303.000000   \n",
       "mean    54.366337    0.683168    0.966997  131.623762  246.264026    0.148515   \n",
       "std      9.082101    0.466011    1.032052   17.538143   51.830751    0.356198   \n",
       "min     29.000000    0.000000    0.000000   94.000000  126.000000    0.000000   \n",
       "25%     47.500000    0.000000    0.000000  120.000000  211.000000    0.000000   \n",
       "50%     55.000000    1.000000    1.000000  130.000000  240.000000    0.000000   \n",
       "75%     61.000000    1.000000    2.000000  140.000000  274.500000    0.000000   \n",
       "max     77.000000    1.000000    3.000000  200.000000  564.000000    1.000000   \n",
       "\n",
       "          restecg    thalachh        exng     oldpeak         slp         caa  \\\n",
       "count  303.000000  303.000000  303.000000  303.000000  303.000000  303.000000   \n",
       "mean     0.528053  149.646865    0.326733    1.039604    1.399340    0.729373   \n",
       "std      0.525860   22.905161    0.469794    1.161075    0.616226    1.022606   \n",
       "min      0.000000   71.000000    0.000000    0.000000    0.000000    0.000000   \n",
       "25%      0.000000  133.500000    0.000000    0.000000    1.000000    0.000000   \n",
       "50%      1.000000  153.000000    0.000000    0.800000    1.000000    0.000000   \n",
       "75%      1.000000  166.000000    1.000000    1.600000    2.000000    1.000000   \n",
       "max      2.000000  202.000000    1.000000    6.200000    2.000000    4.000000   \n",
       "\n",
       "            thall      output  \n",
       "count  303.000000  303.000000  \n",
       "mean     2.313531    0.544554  \n",
       "std      0.612277    0.498835  \n",
       "min      0.000000    0.000000  \n",
       "25%      2.000000    0.000000  \n",
       "50%      2.000000    1.000000  \n",
       "75%      3.000000    1.000000  \n",
       "max      3.000000    1.000000  "
      ]
     },
     "execution_count": 7,
     "metadata": {},
     "output_type": "execute_result"
    }
   ],
   "source": [
    "df1.describe()"
   ]
  },
  {
   "cell_type": "code",
   "execution_count": 8,
   "metadata": {},
   "outputs": [
    {
     "data": {
      "text/html": [
       "<div>\n",
       "<style scoped>\n",
       "    .dataframe tbody tr th:only-of-type {\n",
       "        vertical-align: middle;\n",
       "    }\n",
       "\n",
       "    .dataframe tbody tr th {\n",
       "        vertical-align: top;\n",
       "    }\n",
       "\n",
       "    .dataframe thead th {\n",
       "        text-align: right;\n",
       "    }\n",
       "</style>\n",
       "<table border=\"1\" class=\"dataframe\">\n",
       "  <thead>\n",
       "    <tr style=\"text-align: right;\">\n",
       "      <th></th>\n",
       "      <th>98.6</th>\n",
       "    </tr>\n",
       "  </thead>\n",
       "  <tbody>\n",
       "    <tr>\n",
       "      <th>count</th>\n",
       "      <td>3585.000000</td>\n",
       "    </tr>\n",
       "    <tr>\n",
       "      <th>mean</th>\n",
       "      <td>98.239275</td>\n",
       "    </tr>\n",
       "    <tr>\n",
       "      <th>std</th>\n",
       "      <td>0.726336</td>\n",
       "    </tr>\n",
       "    <tr>\n",
       "      <th>min</th>\n",
       "      <td>96.500000</td>\n",
       "    </tr>\n",
       "    <tr>\n",
       "      <th>25%</th>\n",
       "      <td>97.600000</td>\n",
       "    </tr>\n",
       "    <tr>\n",
       "      <th>50%</th>\n",
       "      <td>98.600000</td>\n",
       "    </tr>\n",
       "    <tr>\n",
       "      <th>75%</th>\n",
       "      <td>98.600000</td>\n",
       "    </tr>\n",
       "    <tr>\n",
       "      <th>max</th>\n",
       "      <td>99.600000</td>\n",
       "    </tr>\n",
       "  </tbody>\n",
       "</table>\n",
       "</div>"
      ],
      "text/plain": [
       "              98.6\n",
       "count  3585.000000\n",
       "mean     98.239275\n",
       "std       0.726336\n",
       "min      96.500000\n",
       "25%      97.600000\n",
       "50%      98.600000\n",
       "75%      98.600000\n",
       "max      99.600000"
      ]
     },
     "execution_count": 8,
     "metadata": {},
     "output_type": "execute_result"
    }
   ],
   "source": [
    "df2.describe()"
   ]
  },
  {
   "cell_type": "code",
   "execution_count": 9,
   "metadata": {},
   "outputs": [
    {
     "data": {
      "text/html": [
       "<div>\n",
       "<style scoped>\n",
       "    .dataframe tbody tr th:only-of-type {\n",
       "        vertical-align: middle;\n",
       "    }\n",
       "\n",
       "    .dataframe tbody tr th {\n",
       "        vertical-align: top;\n",
       "    }\n",
       "\n",
       "    .dataframe thead th {\n",
       "        text-align: right;\n",
       "    }\n",
       "</style>\n",
       "<table border=\"1\" class=\"dataframe\">\n",
       "  <thead>\n",
       "    <tr style=\"text-align: right;\">\n",
       "      <th></th>\n",
       "      <th>age</th>\n",
       "      <th>sex</th>\n",
       "      <th>cp</th>\n",
       "      <th>trtbps</th>\n",
       "      <th>chol</th>\n",
       "      <th>fbs</th>\n",
       "      <th>restecg</th>\n",
       "      <th>thalachh</th>\n",
       "      <th>exng</th>\n",
       "      <th>oldpeak</th>\n",
       "      <th>slp</th>\n",
       "      <th>caa</th>\n",
       "      <th>thall</th>\n",
       "      <th>output</th>\n",
       "    </tr>\n",
       "  </thead>\n",
       "  <tbody>\n",
       "    <tr>\n",
       "      <th>164</th>\n",
       "      <td>38</td>\n",
       "      <td>1</td>\n",
       "      <td>2</td>\n",
       "      <td>138</td>\n",
       "      <td>175</td>\n",
       "      <td>0</td>\n",
       "      <td>1</td>\n",
       "      <td>173</td>\n",
       "      <td>0</td>\n",
       "      <td>0.0</td>\n",
       "      <td>2</td>\n",
       "      <td>4</td>\n",
       "      <td>2</td>\n",
       "      <td>1</td>\n",
       "    </tr>\n",
       "  </tbody>\n",
       "</table>\n",
       "</div>"
      ],
      "text/plain": [
       "     age  sex  cp  trtbps  chol  fbs  restecg  thalachh  exng  oldpeak  slp  \\\n",
       "164   38    1   2     138   175    0        1       173     0      0.0    2   \n",
       "\n",
       "     caa  thall  output  \n",
       "164    4      2       1  "
      ]
     },
     "execution_count": 9,
     "metadata": {},
     "output_type": "execute_result"
    }
   ],
   "source": [
    "df1[df1.duplicated()]"
   ]
  },
  {
   "cell_type": "code",
   "execution_count": 10,
   "metadata": {},
   "outputs": [],
   "source": [
    "df1.drop_duplicates(inplace=True)"
   ]
  },
  {
   "cell_type": "code",
   "execution_count": 11,
   "metadata": {},
   "outputs": [
    {
     "name": "stdout",
     "output_type": "stream",
     "text": [
      "<class 'pandas.core.frame.DataFrame'>\n",
      "Int64Index: 302 entries, 0 to 302\n",
      "Data columns (total 14 columns):\n",
      " #   Column    Non-Null Count  Dtype  \n",
      "---  ------    --------------  -----  \n",
      " 0   age       302 non-null    int64  \n",
      " 1   sex       302 non-null    int64  \n",
      " 2   cp        302 non-null    int64  \n",
      " 3   trtbps    302 non-null    int64  \n",
      " 4   chol      302 non-null    int64  \n",
      " 5   fbs       302 non-null    int64  \n",
      " 6   restecg   302 non-null    int64  \n",
      " 7   thalachh  302 non-null    int64  \n",
      " 8   exng      302 non-null    int64  \n",
      " 9   oldpeak   302 non-null    float64\n",
      " 10  slp       302 non-null    int64  \n",
      " 11  caa       302 non-null    int64  \n",
      " 12  thall     302 non-null    int64  \n",
      " 13  output    302 non-null    int64  \n",
      "dtypes: float64(1), int64(13)\n",
      "memory usage: 35.4 KB\n"
     ]
    }
   ],
   "source": [
    "df1.info()"
   ]
  },
  {
   "cell_type": "code",
   "execution_count": 12,
   "metadata": {},
   "outputs": [
    {
     "data": {
      "text/html": [
       "<div>\n",
       "<style scoped>\n",
       "    .dataframe tbody tr th:only-of-type {\n",
       "        vertical-align: middle;\n",
       "    }\n",
       "\n",
       "    .dataframe tbody tr th {\n",
       "        vertical-align: top;\n",
       "    }\n",
       "\n",
       "    .dataframe thead th {\n",
       "        text-align: right;\n",
       "    }\n",
       "</style>\n",
       "<table border=\"1\" class=\"dataframe\">\n",
       "  <thead>\n",
       "    <tr style=\"text-align: right;\">\n",
       "      <th></th>\n",
       "      <th>age</th>\n",
       "      <th>sex</th>\n",
       "      <th>cp</th>\n",
       "      <th>trtbps</th>\n",
       "      <th>chol</th>\n",
       "      <th>fbs</th>\n",
       "      <th>restecg</th>\n",
       "      <th>thalachh</th>\n",
       "      <th>exng</th>\n",
       "      <th>oldpeak</th>\n",
       "      <th>slp</th>\n",
       "      <th>caa</th>\n",
       "      <th>thall</th>\n",
       "      <th>output</th>\n",
       "    </tr>\n",
       "  </thead>\n",
       "  <tbody>\n",
       "    <tr>\n",
       "      <th>age</th>\n",
       "      <td>1.000000</td>\n",
       "      <td>-0.094962</td>\n",
       "      <td>-0.063107</td>\n",
       "      <td>0.283121</td>\n",
       "      <td>0.207216</td>\n",
       "      <td>0.119492</td>\n",
       "      <td>-0.111590</td>\n",
       "      <td>-0.395235</td>\n",
       "      <td>0.093216</td>\n",
       "      <td>0.206040</td>\n",
       "      <td>-0.164124</td>\n",
       "      <td>0.302261</td>\n",
       "      <td>0.065317</td>\n",
       "      <td>-0.221476</td>\n",
       "    </tr>\n",
       "    <tr>\n",
       "      <th>sex</th>\n",
       "      <td>-0.094962</td>\n",
       "      <td>1.000000</td>\n",
       "      <td>-0.051740</td>\n",
       "      <td>-0.057647</td>\n",
       "      <td>-0.195571</td>\n",
       "      <td>0.046022</td>\n",
       "      <td>-0.060351</td>\n",
       "      <td>-0.046439</td>\n",
       "      <td>0.143460</td>\n",
       "      <td>0.098322</td>\n",
       "      <td>-0.032990</td>\n",
       "      <td>0.113060</td>\n",
       "      <td>0.211452</td>\n",
       "      <td>-0.283609</td>\n",
       "    </tr>\n",
       "    <tr>\n",
       "      <th>cp</th>\n",
       "      <td>-0.063107</td>\n",
       "      <td>-0.051740</td>\n",
       "      <td>1.000000</td>\n",
       "      <td>0.046486</td>\n",
       "      <td>-0.072682</td>\n",
       "      <td>0.096018</td>\n",
       "      <td>0.041561</td>\n",
       "      <td>0.293367</td>\n",
       "      <td>-0.392937</td>\n",
       "      <td>-0.146692</td>\n",
       "      <td>0.116854</td>\n",
       "      <td>-0.195356</td>\n",
       "      <td>-0.160370</td>\n",
       "      <td>0.432080</td>\n",
       "    </tr>\n",
       "    <tr>\n",
       "      <th>trtbps</th>\n",
       "      <td>0.283121</td>\n",
       "      <td>-0.057647</td>\n",
       "      <td>0.046486</td>\n",
       "      <td>1.000000</td>\n",
       "      <td>0.125256</td>\n",
       "      <td>0.178125</td>\n",
       "      <td>-0.115367</td>\n",
       "      <td>-0.048023</td>\n",
       "      <td>0.068526</td>\n",
       "      <td>0.194600</td>\n",
       "      <td>-0.122873</td>\n",
       "      <td>0.099248</td>\n",
       "      <td>0.062870</td>\n",
       "      <td>-0.146269</td>\n",
       "    </tr>\n",
       "    <tr>\n",
       "      <th>chol</th>\n",
       "      <td>0.207216</td>\n",
       "      <td>-0.195571</td>\n",
       "      <td>-0.072682</td>\n",
       "      <td>0.125256</td>\n",
       "      <td>1.000000</td>\n",
       "      <td>0.011428</td>\n",
       "      <td>-0.147602</td>\n",
       "      <td>-0.005308</td>\n",
       "      <td>0.064099</td>\n",
       "      <td>0.050086</td>\n",
       "      <td>0.000417</td>\n",
       "      <td>0.086878</td>\n",
       "      <td>0.096810</td>\n",
       "      <td>-0.081437</td>\n",
       "    </tr>\n",
       "    <tr>\n",
       "      <th>fbs</th>\n",
       "      <td>0.119492</td>\n",
       "      <td>0.046022</td>\n",
       "      <td>0.096018</td>\n",
       "      <td>0.178125</td>\n",
       "      <td>0.011428</td>\n",
       "      <td>1.000000</td>\n",
       "      <td>-0.083081</td>\n",
       "      <td>-0.007169</td>\n",
       "      <td>0.024729</td>\n",
       "      <td>0.004514</td>\n",
       "      <td>-0.058654</td>\n",
       "      <td>0.144935</td>\n",
       "      <td>-0.032752</td>\n",
       "      <td>-0.026826</td>\n",
       "    </tr>\n",
       "    <tr>\n",
       "      <th>restecg</th>\n",
       "      <td>-0.111590</td>\n",
       "      <td>-0.060351</td>\n",
       "      <td>0.041561</td>\n",
       "      <td>-0.115367</td>\n",
       "      <td>-0.147602</td>\n",
       "      <td>-0.083081</td>\n",
       "      <td>1.000000</td>\n",
       "      <td>0.041210</td>\n",
       "      <td>-0.068807</td>\n",
       "      <td>-0.056251</td>\n",
       "      <td>0.090402</td>\n",
       "      <td>-0.083112</td>\n",
       "      <td>-0.010473</td>\n",
       "      <td>0.134874</td>\n",
       "    </tr>\n",
       "    <tr>\n",
       "      <th>thalachh</th>\n",
       "      <td>-0.395235</td>\n",
       "      <td>-0.046439</td>\n",
       "      <td>0.293367</td>\n",
       "      <td>-0.048023</td>\n",
       "      <td>-0.005308</td>\n",
       "      <td>-0.007169</td>\n",
       "      <td>0.041210</td>\n",
       "      <td>1.000000</td>\n",
       "      <td>-0.377411</td>\n",
       "      <td>-0.342201</td>\n",
       "      <td>0.384754</td>\n",
       "      <td>-0.228311</td>\n",
       "      <td>-0.094910</td>\n",
       "      <td>0.419955</td>\n",
       "    </tr>\n",
       "    <tr>\n",
       "      <th>exng</th>\n",
       "      <td>0.093216</td>\n",
       "      <td>0.143460</td>\n",
       "      <td>-0.392937</td>\n",
       "      <td>0.068526</td>\n",
       "      <td>0.064099</td>\n",
       "      <td>0.024729</td>\n",
       "      <td>-0.068807</td>\n",
       "      <td>-0.377411</td>\n",
       "      <td>1.000000</td>\n",
       "      <td>0.286766</td>\n",
       "      <td>-0.256106</td>\n",
       "      <td>0.125377</td>\n",
       "      <td>0.205826</td>\n",
       "      <td>-0.435601</td>\n",
       "    </tr>\n",
       "    <tr>\n",
       "      <th>oldpeak</th>\n",
       "      <td>0.206040</td>\n",
       "      <td>0.098322</td>\n",
       "      <td>-0.146692</td>\n",
       "      <td>0.194600</td>\n",
       "      <td>0.050086</td>\n",
       "      <td>0.004514</td>\n",
       "      <td>-0.056251</td>\n",
       "      <td>-0.342201</td>\n",
       "      <td>0.286766</td>\n",
       "      <td>1.000000</td>\n",
       "      <td>-0.576314</td>\n",
       "      <td>0.236560</td>\n",
       "      <td>0.209090</td>\n",
       "      <td>-0.429146</td>\n",
       "    </tr>\n",
       "    <tr>\n",
       "      <th>slp</th>\n",
       "      <td>-0.164124</td>\n",
       "      <td>-0.032990</td>\n",
       "      <td>0.116854</td>\n",
       "      <td>-0.122873</td>\n",
       "      <td>0.000417</td>\n",
       "      <td>-0.058654</td>\n",
       "      <td>0.090402</td>\n",
       "      <td>0.384754</td>\n",
       "      <td>-0.256106</td>\n",
       "      <td>-0.576314</td>\n",
       "      <td>1.000000</td>\n",
       "      <td>-0.092236</td>\n",
       "      <td>-0.103314</td>\n",
       "      <td>0.343940</td>\n",
       "    </tr>\n",
       "    <tr>\n",
       "      <th>caa</th>\n",
       "      <td>0.302261</td>\n",
       "      <td>0.113060</td>\n",
       "      <td>-0.195356</td>\n",
       "      <td>0.099248</td>\n",
       "      <td>0.086878</td>\n",
       "      <td>0.144935</td>\n",
       "      <td>-0.083112</td>\n",
       "      <td>-0.228311</td>\n",
       "      <td>0.125377</td>\n",
       "      <td>0.236560</td>\n",
       "      <td>-0.092236</td>\n",
       "      <td>1.000000</td>\n",
       "      <td>0.160085</td>\n",
       "      <td>-0.408992</td>\n",
       "    </tr>\n",
       "    <tr>\n",
       "      <th>thall</th>\n",
       "      <td>0.065317</td>\n",
       "      <td>0.211452</td>\n",
       "      <td>-0.160370</td>\n",
       "      <td>0.062870</td>\n",
       "      <td>0.096810</td>\n",
       "      <td>-0.032752</td>\n",
       "      <td>-0.010473</td>\n",
       "      <td>-0.094910</td>\n",
       "      <td>0.205826</td>\n",
       "      <td>0.209090</td>\n",
       "      <td>-0.103314</td>\n",
       "      <td>0.160085</td>\n",
       "      <td>1.000000</td>\n",
       "      <td>-0.343101</td>\n",
       "    </tr>\n",
       "    <tr>\n",
       "      <th>output</th>\n",
       "      <td>-0.221476</td>\n",
       "      <td>-0.283609</td>\n",
       "      <td>0.432080</td>\n",
       "      <td>-0.146269</td>\n",
       "      <td>-0.081437</td>\n",
       "      <td>-0.026826</td>\n",
       "      <td>0.134874</td>\n",
       "      <td>0.419955</td>\n",
       "      <td>-0.435601</td>\n",
       "      <td>-0.429146</td>\n",
       "      <td>0.343940</td>\n",
       "      <td>-0.408992</td>\n",
       "      <td>-0.343101</td>\n",
       "      <td>1.000000</td>\n",
       "    </tr>\n",
       "  </tbody>\n",
       "</table>\n",
       "</div>"
      ],
      "text/plain": [
       "               age       sex        cp    trtbps      chol       fbs  \\\n",
       "age       1.000000 -0.094962 -0.063107  0.283121  0.207216  0.119492   \n",
       "sex      -0.094962  1.000000 -0.051740 -0.057647 -0.195571  0.046022   \n",
       "cp       -0.063107 -0.051740  1.000000  0.046486 -0.072682  0.096018   \n",
       "trtbps    0.283121 -0.057647  0.046486  1.000000  0.125256  0.178125   \n",
       "chol      0.207216 -0.195571 -0.072682  0.125256  1.000000  0.011428   \n",
       "fbs       0.119492  0.046022  0.096018  0.178125  0.011428  1.000000   \n",
       "restecg  -0.111590 -0.060351  0.041561 -0.115367 -0.147602 -0.083081   \n",
       "thalachh -0.395235 -0.046439  0.293367 -0.048023 -0.005308 -0.007169   \n",
       "exng      0.093216  0.143460 -0.392937  0.068526  0.064099  0.024729   \n",
       "oldpeak   0.206040  0.098322 -0.146692  0.194600  0.050086  0.004514   \n",
       "slp      -0.164124 -0.032990  0.116854 -0.122873  0.000417 -0.058654   \n",
       "caa       0.302261  0.113060 -0.195356  0.099248  0.086878  0.144935   \n",
       "thall     0.065317  0.211452 -0.160370  0.062870  0.096810 -0.032752   \n",
       "output   -0.221476 -0.283609  0.432080 -0.146269 -0.081437 -0.026826   \n",
       "\n",
       "           restecg  thalachh      exng   oldpeak       slp       caa  \\\n",
       "age      -0.111590 -0.395235  0.093216  0.206040 -0.164124  0.302261   \n",
       "sex      -0.060351 -0.046439  0.143460  0.098322 -0.032990  0.113060   \n",
       "cp        0.041561  0.293367 -0.392937 -0.146692  0.116854 -0.195356   \n",
       "trtbps   -0.115367 -0.048023  0.068526  0.194600 -0.122873  0.099248   \n",
       "chol     -0.147602 -0.005308  0.064099  0.050086  0.000417  0.086878   \n",
       "fbs      -0.083081 -0.007169  0.024729  0.004514 -0.058654  0.144935   \n",
       "restecg   1.000000  0.041210 -0.068807 -0.056251  0.090402 -0.083112   \n",
       "thalachh  0.041210  1.000000 -0.377411 -0.342201  0.384754 -0.228311   \n",
       "exng     -0.068807 -0.377411  1.000000  0.286766 -0.256106  0.125377   \n",
       "oldpeak  -0.056251 -0.342201  0.286766  1.000000 -0.576314  0.236560   \n",
       "slp       0.090402  0.384754 -0.256106 -0.576314  1.000000 -0.092236   \n",
       "caa      -0.083112 -0.228311  0.125377  0.236560 -0.092236  1.000000   \n",
       "thall    -0.010473 -0.094910  0.205826  0.209090 -0.103314  0.160085   \n",
       "output    0.134874  0.419955 -0.435601 -0.429146  0.343940 -0.408992   \n",
       "\n",
       "             thall    output  \n",
       "age       0.065317 -0.221476  \n",
       "sex       0.211452 -0.283609  \n",
       "cp       -0.160370  0.432080  \n",
       "trtbps    0.062870 -0.146269  \n",
       "chol      0.096810 -0.081437  \n",
       "fbs      -0.032752 -0.026826  \n",
       "restecg  -0.010473  0.134874  \n",
       "thalachh -0.094910  0.419955  \n",
       "exng      0.205826 -0.435601  \n",
       "oldpeak   0.209090 -0.429146  \n",
       "slp      -0.103314  0.343940  \n",
       "caa       0.160085 -0.408992  \n",
       "thall     1.000000 -0.343101  \n",
       "output   -0.343101  1.000000  "
      ]
     },
     "execution_count": 12,
     "metadata": {},
     "output_type": "execute_result"
    }
   ],
   "source": [
    "df1.corr()"
   ]
  },
  {
   "cell_type": "code",
   "execution_count": 13,
   "metadata": {},
   "outputs": [
    {
     "data": {
      "text/plain": [
       "<AxesSubplot:title={'center':'Impact of Age on Heart Attacks'}>"
      ]
     },
     "execution_count": 13,
     "metadata": {},
     "output_type": "execute_result"
    },
    {
     "data": {
      "image/png": "[encoded data removed]",
      "text/plain": [
       "<Figure size 432x288 with 1 Axes>"
      ]
     },
     "metadata": {
      "needs_background": "light"
     },
     "output_type": "display_data"
    }
   ],
   "source": [
    "df1['age'].plot(kind = 'line', title = \"Impact of Age on Heart Attacks\")"
   ]
  },
  {
   "cell_type": "code",
   "execution_count": 14,
   "metadata": {},
   "outputs": [
    {
     "name": "stdout",
     "output_type": "stream",
     "text": [
      "Number of people having sex as 1 are 96 and Number of people having sex as 0 are 206\n"
     ]
    },
    {
     "data": {
      "image/png": "[encoded data removed]",
      "text/plain": [
       "<Figure size 432x288 with 1 Axes>"
      ]
     },
     "metadata": {
      "needs_background": "light"
     },
     "output_type": "display_data"
    }
   ],
   "source": [
    "x=(df1.sex.value_counts())\n",
    "print(f'Number of people having sex as 1 are {x[0]} and Number of people having sex as 0 are {x[1]}')\n",
    "p = sns.countplot(data=df1, x=\"sex\")\n",
    "plt.show()\n"
   ]
  },
  {
   "cell_type": "code",
   "execution_count": 15,
   "metadata": {},
   "outputs": [
    {
     "name": "stdout",
     "output_type": "stream",
     "text": [
      "0    143\n",
      "2     86\n",
      "1     50\n",
      "3     23\n",
      "Name: cp, dtype: int64\n"
     ]
    },
    {
     "data": {
      "image/png": "[encoded data removed]",
      "text/plain": [
       "<Figure size 432x288 with 1 Axes>"
      ]
     },
     "metadata": {
      "needs_background": "light"
     },
     "output_type": "display_data"
    }
   ],
   "source": [
    "x=(df1.cp.value_counts())\n",
    "print(x)\n",
    "p = sns.countplot(data=df1, x=\"cp\")\n",
    "plt.show()"
   ]
  },
  {
   "cell_type": "code",
   "execution_count": 16,
   "metadata": {},
   "outputs": [
    {
     "data": {
      "text/plain": [
       "<matplotlib.legend.Legend at 0x209bae48850>"
      ]
     },
     "execution_count": 16,
     "metadata": {},
     "output_type": "execute_result"
    },
    {
     "data": {
      "text/plain": [
       "<Figure size 720x720 with 0 Axes>"
      ]
     },
     "metadata": {},
     "output_type": "display_data"
    },
    {
     "data": {
      "image/png": "[encoded data removed]",
      "text/plain": [
       "<Figure size 360x360 with 1 Axes>"
      ]
     },
     "metadata": {
      "needs_background": "light"
     },
     "output_type": "display_data"
    }
   ],
   "source": [
    "plt.figure(figsize=(10,10))\n",
    "sns.displot(df1.age, color=\"red\", label=\"Age\", kde= True)\n",
    "plt.legend()"
   ]
  },
  {
   "cell_type": "code",
   "execution_count": 17,
   "metadata": {},
   "outputs": [
    {
     "name": "stderr",
     "output_type": "stream",
     "text": [
      "C:\\Users\\Micheal Chukwuebuka\\anaconda3\\lib\\site-packages\\seaborn\\distributions.py:2551: FutureWarning: `distplot` is a deprecated function and will be removed in a future version. Please adapt your code to use either `displot` (a figure-level function with similar flexibility) or `histplot` (an axes-level function for histograms).\n",
      "  warnings.warn(msg, FutureWarning)\n",
      "C:\\Users\\Micheal Chukwuebuka\\anaconda3\\lib\\site-packages\\seaborn\\distributions.py:2551: FutureWarning: `distplot` is a deprecated function and will be removed in a future version. Please adapt your code to use either `displot` (a figure-level function with similar flexibility) or `histplot` (an axes-level function for histograms).\n",
      "  warnings.warn(msg, FutureWarning)\n"
     ]
    },
    {
     "data": {
      "image/png": "[encoded data removed]",
      "text/plain": [
       "<Figure size 720x720 with 1 Axes>"
      ]
     },
     "metadata": {
      "needs_background": "light"
     },
     "output_type": "display_data"
    }
   ],
   "source": [
    "plt.figure(figsize=(10,10))\n",
    "sns.distplot(df1[df1['output'] == 0][\"age\"], color='green',kde=True,) \n",
    "sns.distplot(df1[df1['output'] == 1][\"age\"], color='red',kde=True)\n",
    "plt.title('Attack versus Age')\n",
    "plt.show()"
   ]
  },
  {
   "cell_type": "code",
   "execution_count": 18,
   "metadata": {},
   "outputs": [
    {
     "name": "stderr",
     "output_type": "stream",
     "text": [
      "C:\\Users\\Micheal Chukwuebuka\\anaconda3\\lib\\site-packages\\seaborn\\distributions.py:2551: FutureWarning: `distplot` is a deprecated function and will be removed in a future version. Please adapt your code to use either `displot` (a figure-level function with similar flexibility) or `histplot` (an axes-level function for histograms).\n",
      "  warnings.warn(msg, FutureWarning)\n",
      "C:\\Users\\Micheal Chukwuebuka\\anaconda3\\lib\\site-packages\\seaborn\\distributions.py:2551: FutureWarning: `distplot` is a deprecated function and will be removed in a future version. Please adapt your code to use either `displot` (a figure-level function with similar flexibility) or `histplot` (an axes-level function for histograms).\n",
      "  warnings.warn(msg, FutureWarning)\n"
     ]
    },
    {
     "data": {
      "image/png": "[encoded data removed]",
      "text/plain": [
       "<Figure size 720x720 with 1 Axes>"
      ]
     },
     "metadata": {
      "needs_background": "light"
     },
     "output_type": "display_data"
    }
   ],
   "source": [
    "plt.figure(figsize=(10,10))\n",
    "sns.distplot(df1[df1['output'] == 0][\"chol\"], color='green',kde=True,) \n",
    "sns.distplot(df1[df1['output'] == 1][\"chol\"], color='red',kde=True)\n",
    "plt.title('Cholestrol versus Age')\n",
    "plt.show()"
   ]
  },
  {
   "cell_type": "markdown",
   "metadata": {},
   "source": [
    "# Spilliting the datasets and building a machine learning model for the classifier. "
   ]
  },
  {
   "cell_type": "code",
   "execution_count": 19,
   "metadata": {},
   "outputs": [
    {
     "data": {
      "text/plain": [
       "(array([[  1.,   3., 145., ...,   0.,   0.,   1.],\n",
       "        [  1.,   2., 130., ...,   0.,   0.,   2.],\n",
       "        [  0.,   1., 130., ...,   2.,   0.,   2.],\n",
       "        ...,\n",
       "        [  1.,   0., 144., ...,   1.,   2.,   3.],\n",
       "        [  1.,   0., 130., ...,   1.,   1.,   3.],\n",
       "        [  0.,   1., 130., ...,   1.,   1.,   2.]]),\n",
       " array([1, 1, 1, 1, 1, 1, 1, 1, 1, 1, 1, 1, 1, 1, 1, 1, 1, 1, 1, 1, 1, 1,\n",
       "        1, 1, 1, 1, 1, 1, 1, 1, 1, 1, 1, 1, 1, 1, 1, 1, 1, 1, 1, 1, 1, 1,\n",
       "        1, 1, 1, 1, 1, 1, 1, 1, 1, 1, 1, 1, 1, 1, 1, 1, 1, 1, 1, 1, 1, 1,\n",
       "        1, 1, 1, 1, 1, 1, 1, 1, 1, 1, 1, 1, 1, 1, 1, 1, 1, 1, 1, 1, 1, 1,\n",
       "        1, 1, 1, 1, 1, 1, 1, 1, 1, 1, 1, 1, 1, 1, 1, 1, 1, 1, 1, 1, 1, 1,\n",
       "        1, 1, 1, 1, 1, 1, 1, 1, 1, 1, 1, 1, 1, 1, 1, 1, 1, 1, 1, 1, 1, 1,\n",
       "        1, 1, 1, 1, 1, 1, 1, 1, 1, 1, 1, 1, 1, 1, 1, 1, 1, 1, 1, 1, 1, 1,\n",
       "        1, 1, 1, 1, 1, 1, 1, 1, 1, 1, 0, 0, 0, 0, 0, 0, 0, 0, 0, 0, 0, 0,\n",
       "        0, 0, 0, 0, 0, 0, 0, 0, 0, 0, 0, 0, 0, 0, 0, 0, 0, 0, 0, 0, 0, 0,\n",
       "        0, 0, 0, 0, 0, 0, 0, 0, 0, 0, 0, 0, 0, 0, 0, 0, 0, 0, 0, 0, 0, 0,\n",
       "        0, 0, 0, 0, 0, 0, 0, 0, 0, 0, 0, 0, 0, 0, 0, 0, 0, 0, 0, 0, 0, 0,\n",
       "        0, 0, 0, 0, 0, 0, 0, 0, 0, 0, 0, 0, 0, 0, 0, 0, 0, 0, 0, 0, 0, 0,\n",
       "        0, 0, 0, 0, 0, 0, 0, 0, 0, 0, 0, 0, 0, 0, 0, 0, 0, 0, 0, 0, 0, 0,\n",
       "        0, 0, 0, 0, 0, 0, 0, 0, 0, 0, 0, 0, 0, 0, 0, 0], dtype=int64))"
      ]
     },
     "execution_count": 19,
     "metadata": {},
     "output_type": "execute_result"
    }
   ],
   "source": [
    "x = df1.iloc[:, 1:-1].values\n",
    "y = df1.iloc[:, -1].values\n",
    "x,y"
   ]
  },
  {
   "cell_type": "code",
   "execution_count": 20,
   "metadata": {},
   "outputs": [
    {
     "name": "stdout",
     "output_type": "stream",
     "text": [
      "Shape for training data (241, 12) (241,)\n",
      "Shape for testing data (61, 12) (61,)\n"
     ]
    }
   ],
   "source": [
    "x_train, x_test, y_train, y_test = train_test_split(x, y, test_size= 0.2, random_state= 0)\n",
    "print('Shape for training data', x_train.shape, y_train.shape)\n",
    "print('Shape for testing data', x_test.shape, y_test.shape)"
   ]
  },
  {
   "cell_type": "code",
   "execution_count": 21,
   "metadata": {},
   "outputs": [],
   "source": [
    "scaler = StandardScaler()\n",
    "x_train = scaler.fit_transform(x_train)\n",
    "x_test = scaler.transform(x_test)"
   ]
  },
  {
   "cell_type": "code",
   "execution_count": 22,
   "metadata": {},
   "outputs": [
    {
     "data": {
      "text/plain": [
       "(array([[-1.4186261 ,  0.98544689, -0.55988902, ..., -0.61492051,\n",
       "         -0.70674006, -0.49876142],\n",
       "        [-1.4186261 ,  0.98544689,  0.81698091, ..., -0.61492051,\n",
       "          0.29516791, -0.49876142],\n",
       "        [ 0.70490738,  0.98544689,  0.47276343, ...,  0.99590387,\n",
       "         -0.70674006, -0.49876142],\n",
       "        ...,\n",
       "        [ 0.70490738,  1.94307874, -0.67462818, ..., -0.61492051,\n",
       "         -0.70674006,  1.1478345 ],\n",
       "        [ 0.70490738,  0.98544689,  0.35802427, ...,  0.99590387,\n",
       "         -0.70674006, -0.49876142],\n",
       "        [ 0.70490738,  0.98544689,  0.01380679, ...,  0.99590387,\n",
       "          1.29707587,  1.1478345 ]]),\n",
       " array([[ 0.70490738,  0.02781503, -0.67462818,  0.65089023, -0.40527917,\n",
       "         -0.97525383, -1.96657306, -0.6983225 ,  0.27236593, -0.61492051,\n",
       "          0.29516791,  1.1478345 ],\n",
       "        [ 0.70490738,  1.94307874,  2.19385084, -0.36856884, -0.40527917,\n",
       "         -0.97525383,  0.23525787, -0.6983225 , -0.39657867, -0.61492051,\n",
       "         -0.70674006,  1.1478345 ],\n",
       "        [ 0.70490738,  0.98544689, -0.38778028,  1.17949864, -0.40527917,\n",
       "          0.90503556, -0.78097179,  1.43200311,  0.60683823, -0.61492051,\n",
       "         -0.70674006,  1.1478345 ],\n",
       "        [ 0.70490738, -0.92981682,  1.04645923,  0.44322264, -0.40527917,\n",
       "         -0.97525383, -1.62782984,  1.43200311, -0.22934252,  0.99590387,\n",
       "         -0.70674006,  1.1478345 ],\n",
       "        [ 0.70490738,  0.98544689, -0.10093237, -0.29305336, -0.40527917,\n",
       "          0.90503556, -0.14582825, -0.6983225 ,  0.60683823, -0.61492051,\n",
       "          2.29898383,  1.1478345 ],\n",
       "        [-1.4186261 , -0.92981682,  0.12854595,  3.06738581, -0.40527917,\n",
       "         -0.97525383,  0.02354336,  1.43200311,  0.6904563 , -0.61492051,\n",
       "          1.29707587,  1.1478345 ],\n",
       "        [ 0.70490738, -0.92981682, -0.84673692, -0.31193223,  2.46743496,\n",
       "          0.90503556,  0.44697238,  1.43200311,  0.27236593,  0.99590387,\n",
       "          1.29707587,  1.1478345 ],\n",
       "        [ 0.70490738, -0.92981682,  0.47276343, -0.82166177,  2.46743496,\n",
       "         -0.97525383,  0.23525787,  1.43200311,  1.6938732 , -2.22574489,\n",
       "         -0.70674006,  1.1478345 ],\n",
       "        [ 0.70490738, -0.92981682, -1.24832398, -0.14202238, -0.40527917,\n",
       "          0.90503556, -0.9926863 ,  1.43200311,  1.44301898, -0.61492051,\n",
       "          0.29516791,  1.1478345 ],\n",
       "        [ 0.70490738, -0.92981682,  0.18591553,  0.14116069, -0.40527917,\n",
       "         -0.97525383, -0.9503434 , -0.6983225 ,  1.44301898, -0.61492051,\n",
       "          0.29516791,  1.1478345 ],\n",
       "        [ 0.70490738,  0.98544689,  1.04645923, -2.27533489,  2.46743496,\n",
       "          0.90503556,  0.99743011, -0.6983225 , -0.73105097,  0.99590387,\n",
       "          0.29516791,  1.1478345 ],\n",
       "        [-1.4186261 , -0.92981682, -0.10093237,  0.42434377, -0.40527917,\n",
       "          0.90503556,  0.57400109, -0.6983225 , -0.89828712,  0.99590387,\n",
       "         -0.70674006, -0.49876142],\n",
       "        [ 0.70490738, -0.92981682, -0.10093237,  0.17891844,  2.46743496,\n",
       "         -0.97525383,  0.02354336,  1.43200311, -0.89828712,  0.99590387,\n",
       "          1.29707587,  1.1478345 ],\n",
       "        [ 0.70490738,  0.02781503, -0.10093237,  0.36770715, -0.40527917,\n",
       "          0.90503556,  0.91274431, -0.6983225 , -0.39657867,  0.99590387,\n",
       "         -0.70674006, -0.49876142],\n",
       "        [-1.4186261 ,  0.98544689, -0.67462818, -0.51959982, -0.40527917,\n",
       "          0.90503556,  0.36228658, -0.6983225 ,  0.43960208, -0.61492051,\n",
       "         -0.70674006, -0.49876142],\n",
       "        [ 0.70490738,  0.98544689, -1.82201979, -0.4629632 , -0.40527917,\n",
       "          0.90503556, -0.27285696,  1.43200311,  0.10512978, -0.61492051,\n",
       "         -0.70674006, -0.49876142],\n",
       "        [ 0.70490738, -0.92981682, -1.36306314, -0.25529561,  2.46743496,\n",
       "          0.90503556, -0.10348535, -0.6983225 , -0.81466905,  0.99590387,\n",
       "          2.29898383,  1.1478345 ],\n",
       "        [ 0.70490738,  0.98544689, -0.44514986,  0.16003956,  2.46743496,\n",
       "          0.90503556,  1.08211592, -0.6983225 , -0.89828712,  0.99590387,\n",
       "          1.29707587, -0.49876142],\n",
       "        [ 0.70490738, -0.92981682, -1.24832398,  0.02788746, -0.40527917,\n",
       "         -0.97525383,  0.36228658, -0.6983225 , -0.39657867,  0.99590387,\n",
       "          1.29707587, -2.14535734],\n",
       "        [ 0.70490738,  0.98544689, -0.67462818, -0.12314351,  2.46743496,\n",
       "          0.90503556,  1.88663107, -0.6983225 , -0.22934252, -2.22574489,\n",
       "         -0.70674006,  1.1478345 ],\n",
       "        [ 0.70490738, -0.92981682,  0.47276343, -0.38744772, -0.40527917,\n",
       "          0.90503556,  1.20914463, -0.6983225 , -0.89828712,  0.99590387,\n",
       "         -0.70674006, -0.49876142],\n",
       "        [-1.4186261 , -0.92981682,  0.75961133,  1.1417409 , -0.40527917,\n",
       "         -0.97525383, -0.14582825,  1.43200311, -0.06210637, -0.61492051,\n",
       "         -0.70674006,  1.1478345 ],\n",
       "        [ 0.70490738, -0.92981682, -0.67462818, -0.91605613, -0.40527917,\n",
       "          0.90503556, -0.82331469,  1.43200311,  0.43960208, -0.61492051,\n",
       "         -0.70674006,  1.1478345 ],\n",
       "        [ 0.70490738, -0.92981682, -1.13358482, -0.65175192, -0.40527917,\n",
       "         -0.97525383, -0.73862889,  1.43200311, -0.81466905,  0.99590387,\n",
       "          0.29516791, -0.49876142],\n",
       "        [ 0.70490738,  0.02781503, -1.24832398, -0.21753787, -0.40527917,\n",
       "          0.90503556,  0.15057206, -0.6983225 , -0.89828712,  0.99590387,\n",
       "         -0.70674006, -0.49876142],\n",
       "        [ 0.70490738, -0.92981682, -0.10093237,  1.57595495,  2.46743496,\n",
       "         -0.97525383, -0.73862889,  1.43200311,  0.60683823,  0.99590387,\n",
       "          2.29898383,  1.1478345 ],\n",
       "        [ 0.70490738, -0.92981682,  0.81698091, -0.53847869, -0.40527917,\n",
       "          0.90503556, -1.88188726, -0.6983225 ,  0.77407438, -0.61492051,\n",
       "          0.29516791,  1.1478345 ],\n",
       "        [ 0.70490738,  1.94307874,  0.12854595, -0.23641674, -0.40527917,\n",
       "          0.90503556, -0.18817116, -0.6983225 ,  1.27578283, -0.61492051,\n",
       "          1.29707587, -0.49876142],\n",
       "        [-1.4186261 ,  0.98544689,  0.35802427, -0.50072095, -0.40527917,\n",
       "          0.90503556,  0.10822916, -0.6983225 , -0.89828712, -0.61492051,\n",
       "         -0.70674006, -0.49876142],\n",
       "        [ 0.70490738,  0.02781503,  0.12854595, -0.85941951, -0.40527917,\n",
       "          0.90503556,  0.36228658, -0.6983225 , -0.22934252,  0.99590387,\n",
       "          0.29516791, -0.49876142],\n",
       "        [ 0.70490738, -0.92981682,  2.19385084,  1.50043946, -0.40527917,\n",
       "         -0.97525383, -0.39988567,  1.43200311,  1.94472743, -2.22574489,\n",
       "         -0.70674006,  1.1478345 ],\n",
       "        [ 0.70490738, -0.92981682, -0.21567153,  0.23555505, -0.40527917,\n",
       "         -0.97525383, -0.82331469,  1.43200311,  1.61025513, -0.61492051,\n",
       "          1.29707587,  1.1478345 ],\n",
       "        [-1.4186261 ,  0.02781503, -0.3304107 ,  1.12286202, -0.40527917,\n",
       "          0.90503556,  0.57400109, -0.6983225 , -0.89828712,  0.99590387,\n",
       "         -0.70674006, -0.49876142],\n",
       "        [ 0.70490738,  0.98544689,  2.30859   , -0.89717725,  2.46743496,\n",
       "          0.90503556,  0.53165819, -0.6983225 , -0.48019675,  0.99590387,\n",
       "         -0.70674006,  1.1478345 ],\n",
       "        [ 0.70490738,  0.02781503, -0.55988902, -1.02932936, -0.40527917,\n",
       "          0.90503556,  1.03977302, -0.6983225 , -0.89828712,  0.99590387,\n",
       "         -0.70674006, -0.49876142],\n",
       "        [ 0.70490738, -0.92981682,  0.75961133, -0.65175192, -0.40527917,\n",
       "         -0.97525383, -0.73862889, -0.6983225 ,  0.77407438, -0.61492051,\n",
       "          1.29707587, -2.14535734],\n",
       "        [-1.4186261 , -0.92981682,  2.42332916,  0.04676633, -0.40527917,\n",
       "          0.90503556, -0.27285696,  1.43200311, -0.89828712, -0.61492051,\n",
       "         -0.70674006, -0.49876142],\n",
       "        [ 0.70490738,  0.02781503, -0.21567153,  1.16061977, -0.40527917,\n",
       "         -0.97525383,  0.87040141, -0.6983225 , -0.89828712,  0.99590387,\n",
       "         -0.70674006, -0.49876142],\n",
       "        [-1.4186261 , -0.92981682,  0.01380679,  1.78362253,  2.46743496,\n",
       "         -0.97525383, -0.56925728,  1.43200311,  1.61025513, -0.61492051,\n",
       "         -0.70674006,  1.1478345 ],\n",
       "        [ 0.70490738, -0.92981682, -0.10093237,  0.14116069, -0.40527917,\n",
       "         -0.97525383, -0.10348535, -0.6983225 ,  0.27236593, -0.61492051,\n",
       "          0.29516791,  1.1478345 ],\n",
       "        [ 0.70490738, -0.92981682,  0.47276343, -1.02932936, -0.40527917,\n",
       "          0.90503556, -0.06114245, -0.6983225 , -0.56381482, -0.61492051,\n",
       "         -0.70674006, -2.14535734],\n",
       "        [-1.4186261 , -0.92981682, -0.21567153,  1.06622541, -0.40527917,\n",
       "         -0.97525383,  0.40462948, -0.6983225 , -0.89828712,  0.99590387,\n",
       "          0.29516791, -0.49876142],\n",
       "        [ 0.70490738,  0.98544689,  0.35802427, -0.44408433, -0.40527917,\n",
       "          0.90503556,  0.8280585 , -0.6983225 , -0.89828712,  0.99590387,\n",
       "          3.30089179, -0.49876142],\n",
       "        [ 0.70490738, -0.92981682, -0.38778028, -0.65175192, -0.40527917,\n",
       "          0.90503556,  0.7857156 , -0.6983225 , -0.06210637,  0.99590387,\n",
       "          1.29707587,  1.1478345 ],\n",
       "        [ 0.70490738,  1.94307874, -0.38778028, -0.63287305, -0.40527917,\n",
       "         -0.97525383, -1.03502921,  1.43200311,  0.27236593,  0.99590387,\n",
       "          0.29516791, -0.49876142],\n",
       "        [ 0.70490738,  0.02781503,  1.39067672, -0.02874915, -0.40527917,\n",
       "         -0.97525383, -0.27285696, -0.6983225 , -0.89828712,  0.99590387,\n",
       "         -0.70674006, -0.49876142],\n",
       "        [ 0.70490738,  0.98544689, -0.10093237, -0.61399418, -0.40527917,\n",
       "         -0.97525383,  0.7857156 , -0.6983225 ,  0.77407438, -0.61492051,\n",
       "         -0.70674006, -0.49876142],\n",
       "        [ 0.70490738, -0.92981682, -1.24832398, -1.40690679, -0.40527917,\n",
       "         -0.97525383,  0.36228658, -0.6983225 , -0.89828712,  0.99590387,\n",
       "         -0.70674006,  1.1478345 ],\n",
       "        [ 0.70490738,  0.02781503,  1.62015504, -0.00987028, -0.40527917,\n",
       "          0.90503556, -1.24674372,  1.43200311, -0.89828712, -0.61492051,\n",
       "          2.29898383, -2.14535734],\n",
       "        [ 0.70490738,  0.02781503, -0.67462818,  0.31107054, -0.40527917,\n",
       "          0.90503556,  0.99743011, -0.6983225 , -0.89828712,  0.99590387,\n",
       "         -0.70674006,  1.1478345 ],\n",
       "        [ 0.70490738,  0.02781503, -0.67462818,  1.48156059, -0.40527917,\n",
       "          0.90503556,  0.95508721, -0.6983225 , -0.73105097,  0.99590387,\n",
       "         -0.70674006, -0.49876142],\n",
       "        [-1.4186261 ,  0.02781503, -0.67462818,  0.42434377, -0.40527917,\n",
       "         -0.97525383, -1.20440082,  1.43200311, -0.73105097,  0.99590387,\n",
       "          0.29516791, -0.49876142],\n",
       "        [-1.4186261 ,  0.98544689, -1.13358482,  0.4054649 , -0.40527917,\n",
       "         -0.97525383,  0.95508721,  1.43200311, -0.89828712,  0.99590387,\n",
       "         -0.70674006, -0.49876142],\n",
       "        [ 0.70490738,  0.02781503,  0.18591553, -0.82166177, -0.40527917,\n",
       "          0.90503556, -0.73862889, -0.6983225 , -0.89828712, -0.61492051,\n",
       "         -0.70674006, -2.14535734],\n",
       "        [-1.4186261 ,  0.98544689, -2.16623727, -0.89717725, -0.40527917,\n",
       "          0.90503556,  1.25148753, -0.6983225 , -0.89828712,  0.99590387,\n",
       "         -0.70674006, -0.49876142],\n",
       "        [ 0.70490738,  1.94307874,  2.19385084,  0.78304233, -0.40527917,\n",
       "         -0.97525383,  0.40462948, -0.6983225 , -0.73105097, -0.61492051,\n",
       "         -0.70674006,  1.1478345 ],\n",
       "        [-1.4186261 ,  0.98544689, -0.78936734, -0.08538577, -0.40527917,\n",
       "          0.90503556, -0.01879955, -0.6983225 , -0.6474329 , -0.61492051,\n",
       "          0.29516791, -0.49876142],\n",
       "        [-1.4186261 ,  0.02781503, -0.10093237, -0.198659  , -0.40527917,\n",
       "         -0.97525383,  1.03977302, -0.6983225 , -0.89828712, -0.61492051,\n",
       "          0.29516791, -0.49876142],\n",
       "        [ 0.70490738,  0.98544689,  1.04645923, -0.65175192,  2.46743496,\n",
       "          0.90503556,  0.31994367, -0.6983225 ,  0.43960208,  0.99590387,\n",
       "         -0.70674006, -0.49876142],\n",
       "        [-1.4186261 ,  0.02781503, -0.67462818, -0.04762802, -0.40527917,\n",
       "          0.90503556,  0.53165819, -0.6983225 ,  0.0215117 ,  0.99590387,\n",
       "         -0.70674006, -0.49876142],\n",
       "        [-1.4186261 , -0.92981682, -1.82201979,  0.02788746, -0.40527917,\n",
       "         -0.97525383, -1.16205791, -0.6983225 , -0.06210637, -0.61492051,\n",
       "         -0.70674006, -0.49876142]]))"
      ]
     },
     "execution_count": 22,
     "metadata": {},
     "output_type": "execute_result"
    }
   ],
   "source": [
    "x_train,x_test"
   ]
  },
  {
   "cell_type": "code",
   "execution_count": 23,
   "metadata": {},
   "outputs": [
    {
     "name": "stdout",
     "output_type": "stream",
     "text": [
      "Confusion Matrix : \n",
      " [[23  4]\n",
      " [ 3 31]]\n",
      "The accuracy of Logistic Regression is :  88.52459016393442 %\n"
     ]
    }
   ],
   "source": [
    "# Logistic Regression\n",
    "model = LogisticRegression()\n",
    "model.fit(x_train, y_train)\n",
    "predicted=model.predict(x_test)\n",
    "conf = confusion_matrix(y_test, predicted)\n",
    "print (\"Confusion Matrix : \\n\", conf)\n",
    "print (\"The accuracy of Logistic Regression is : \", accuracy_score(y_test, predicted)*100, \"%\")"
   ]
  },
  {
   "cell_type": "code",
   "execution_count": 24,
   "metadata": {},
   "outputs": [
    {
     "name": "stdout",
     "output_type": "stream",
     "text": [
      "The accuracy of Gaussian Naive Bayes model is :  88.52459016393442 %\n"
     ]
    }
   ],
   "source": [
    "# Gaussian NB\n",
    "model = GaussianNB()\n",
    "model.fit(x_train, y_train)\n",
    "  \n",
    "predicted = model.predict(x_test)\n",
    "  \n",
    "print(\"The accuracy of Gaussian Naive Bayes model is : \", accuracy_score(y_test, predicted)*100, \"%\")"
   ]
  },
  {
   "cell_type": "code",
   "execution_count": 25,
   "metadata": {},
   "outputs": [
    {
     "name": "stdout",
     "output_type": "stream",
     "text": [
      "The accuracy of Gaussian Naive Bayes model is :  86.88524590163934 %\n"
     ]
    }
   ],
   "source": [
    "# Bernoulli NB\n",
    "model = BernoulliNB()\n",
    "model.fit(x_train, y_train)\n",
    "  \n",
    "predicted = model.predict(x_test)\n",
    "  \n",
    "print(\"The accuracy of Gaussian Naive Bayes model is : \", accuracy_score(y_test, predicted)*100, \"%\")"
   ]
  },
  {
   "cell_type": "code",
   "execution_count": 26,
   "metadata": {},
   "outputs": [
    {
     "name": "stdout",
     "output_type": "stream",
     "text": [
      "The accuracy of SVM is :  91.80327868852459 %\n"
     ]
    }
   ],
   "source": [
    "# SVC Model\n",
    "model = SVC()\n",
    "model.fit(x_train, y_train)\n",
    "  \n",
    "predicted = model.predict(x_test)\n",
    "print(\"The accuracy of SVM is : \", accuracy_score(y_test, predicted)*100, \"%\")"
   ]
  },
  {
   "cell_type": "code",
   "execution_count": 27,
   "metadata": {},
   "outputs": [
    {
     "name": "stdout",
     "output_type": "stream",
     "text": [
      "The accuracy of Random Forest is :  85.24590163934425 %\n"
     ]
    }
   ],
   "source": [
    "# Random Forest\n",
    "model = RandomForestRegressor(n_estimators = 100, random_state = 0)  \n",
    "model.fit(x_train, y_train)  \n",
    "predicted = model.predict(x_test)\n",
    "print(\"The accuracy of Random Forest is : \", accuracy_score(y_test, predicted.round())*100, \"%\")"
   ]
  },
  {
   "cell_type": "code",
   "execution_count": 28,
   "metadata": {},
   "outputs": [
    {
     "name": "stdout",
     "output_type": "stream",
     "text": [
      "[[23  4]\n",
      " [ 6 28]]\n",
      "The accuracy of KNN is :  83.60655737704919 %\n"
     ]
    }
   ],
   "source": [
    "# KNeighbors Classifier\n",
    "model = KNeighborsClassifier(n_neighbors = 1)  \n",
    "model.fit(x_train, y_train)\n",
    "predicted = model.predict(x_test)\n",
    "  \n",
    "\n",
    "print(confusion_matrix(y_test, predicted))\n",
    "print(\"The accuracy of KNN is : \", accuracy_score(y_test, predicted.round())*100, \"%\")\n"
   ]
  },
  {
   "cell_type": "code",
   "execution_count": 29,
   "metadata": {},
   "outputs": [
    {
     "data": {
      "text/plain": [
       "Text(0, 0.5, 'Error Rate')"
      ]
     },
     "execution_count": 29,
     "metadata": {},
     "output_type": "execute_result"
    },
    {
     "data": {
      "image/png": "[encoded data removed]",
      "text/plain": [
       "<Figure size 720x432 with 1 Axes>"
      ]
     },
     "metadata": {
      "needs_background": "light"
     },
     "output_type": "display_data"
    }
   ],
   "source": [
    "# Optimizing the KNN Classifier\n",
    "error_rate = []\n",
    "  \n",
    "for i in range(1, 40):\n",
    "      \n",
    "    model = KNeighborsClassifier(n_neighbors = i)\n",
    "    model.fit(x_train, y_train)\n",
    "    pred_i = model.predict(x_test)\n",
    "    error_rate.append(np.mean(pred_i != y_test))\n",
    "  \n",
    "plt.figure(figsize =(10, 6))\n",
    "plt.plot(range(1, 40), error_rate, color ='blue',\n",
    "                linestyle ='dashed', marker ='o',\n",
    "         markerfacecolor ='red', markersize = 10)\n",
    "  \n",
    "plt.title('Error Rate vs. K Value')\n",
    "plt.xlabel('K')\n",
    "plt.ylabel('Error Rate')"
   ]
  },
  {
   "cell_type": "code",
   "execution_count": 30,
   "metadata": {},
   "outputs": [
    {
     "name": "stdout",
     "output_type": "stream",
     "text": [
      "[[25  2]\n",
      " [ 4 30]]\n",
      "The accuracy of KNN is :  90.1639344262295 %\n"
     ]
    }
   ],
   "source": [
    "# KNeighbors Classfier\n",
    "model = KNeighborsClassifier(n_neighbors = 7)\n",
    "  \n",
    "model.fit(x_train, y_train)\n",
    "predicted = model.predict(x_test)\n",
    "  \n",
    "\n",
    "from sklearn.metrics import classification_report, confusion_matrix\n",
    "print(confusion_matrix(y_test, predicted))\n",
    "\n",
    "print(\"The accuracy of KNN is : \", accuracy_score(y_test, predicted.round())*100, \"%\")"
   ]
  },
  {
   "cell_type": "code",
   "execution_count": 31,
   "metadata": {},
   "outputs": [
    {
     "name": "stdout",
     "output_type": "stream",
     "text": [
      "[15:51:54] WARNING: C:/Users/Administrator/workspace/xgboost-win64_release_1.4.0/src/learner.cc:1095: Starting in XGBoost 1.3.0, the default evaluation metric used with the objective 'binary:logistic' was changed from 'error' to 'logloss'. Explicitly set eval_metric if you'd like to restore the old behavior.\n",
      "\n",
      "The accuracy of X Gradient Boosting is :  80.32786885245902 %\n"
     ]
    }
   ],
   "source": [
    "# XGBoost Classifier\n",
    "model = xgb.XGBClassifier(use_label_encoder=False)\n",
    "model.fit(x_train, y_train)\n",
    "   \n",
    "predicted = model.predict(x_test)\n",
    "   \n",
    "cm = confusion_matrix(y_test, predicted)\n",
    "print()\n",
    "print (\"The accuracy of X Gradient Boosting is : \", accuracy_score(y_test, predicted)*100, \"%\")"
   ]
  },
  {
   "cell_type": "raw",
   "metadata": {},
   "source": [
    "According to the analysis, age and cholesterol level is a major factor in the development of Heart attacks and after testing various models SVC gave the highest confidence score."
   ]
  }
 ],
 "metadata": {
  "kernelspec": {
   "display_name": "Python 3",
   "language": "python",
   "name": "python3"
  },
  "language_info": {
   "codemirror_mode": {
    "name": "ipython",
    "version": 3
   },
   "file_extension": ".py",
   "mimetype": "text/x-python",
   "name": "python",
   "nbconvert_exporter": "python",
   "pygments_lexer": "ipython3",
   "version": "3.8.5"
  }
 },
 "nbformat": 4,
 "nbformat_minor": 4
}
